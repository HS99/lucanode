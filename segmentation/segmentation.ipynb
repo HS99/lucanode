{
 "cells": [
  {
   "cell_type": "code",
   "execution_count": 1,
   "metadata": {},
   "outputs": [],
   "source": [
    "from glob import glob\n",
    "import SimpleITK as sitk"
   ]
  },
  {
   "cell_type": "code",
   "execution_count": 2,
   "metadata": {},
   "outputs": [],
   "source": [
    "KAGGLE_DATASET_PATH = \"/mnt/DATASETS/KAGGLE/\"\n",
    "LUNA_DATASET_PATH = \"/mnt/DATASETS/LUNA/\"\n",
    "EXPORT_MASK_IMAGE_FORMAT = \".nii.gz\""
   ]
  },
  {
   "cell_type": "code",
   "execution_count": 3,
   "metadata": {},
   "outputs": [],
   "source": [
    "def get_id_luna_image(path):\n",
    "    return path.split(\"/\")[-1].split(\".mhd\")[0]\n",
    "\n",
    "def load_luna_image(path):\n",
    "    return sitk.ReadImage(path)\n",
    "\n",
    "def get_id_kaggle_image(path):\n",
    "    return path.split(\"/\")[-1]\n",
    "\n",
    "def load_kaggle_image(path):    \n",
    "    reader = sitk.ImageSeriesReader()\n",
    "    dicom_names = reader.GetGDCMSeriesFileNames(path)\n",
    "    reader.SetFileNames(dicom_names)\n",
    "    image = reader.Execute()\n",
    "    return image\n",
    "\n",
    "def get_id_kaggle_mask(path):\n",
    "    return tuple(path.split(\"/\")[-1].split(EXPORT_MASK_IMAGE_FORMAT)[0].split(\"_\"))\n"
   ]
  },
  {
   "cell_type": "code",
   "execution_count": 4,
   "metadata": {},
   "outputs": [],
   "source": [
    "def calculate_kaggle_segmentation_mask(img_kaggle, img_luna, mask_luna):\n",
    "    \"\"\"Registers img_luna to img_kaggle and applies the resulting to transformation to mask_luna,\n",
    "    which is returned as a new image.\n",
    "    Performing a multiresolution image registration, with translation, affine and non-rigid transformations.\n",
    "    \"\"\"\n",
    "    # Apply the mask to the luna image. We don't want to register the whole ribcage, just the lungs\n",
    "    mask_image_filter = sitk.MaskImageFilter()\n",
    "    masked_img_luna = mask_image_filter.Execute(img_luna, mask_luna)\n",
    "    \n",
    "    # Registration parameters\n",
    "    parameterMapVector = sitk.VectorOfParameterMap()\n",
    "    parameterMapVector.append(sitk.GetDefaultParameterMap(\"translation\"))\n",
    "    parameterMapVector.append(sitk.GetDefaultParameterMap(\"affine\"))\n",
    "    parameterMapVector.append(sitk.GetDefaultParameterMap(\"bspline\"))\n",
    "    \n",
    "    # Perform registration\n",
    "    elastixImageFilter = sitk.ElastixImageFilter()\n",
    "    elastixImageFilter.SetFixedImage(img_kaggle)\n",
    "    elastixImageFilter.SetMovingImage(masked_img_luna)\n",
    "    elastixImageFilter.SetParameterMap(parameterMapVector)\n",
    "    elastixImageFilter.Execute()\n",
    "    \n",
    "    # Apply transformation to LUNA's mask, to obtain Kaggle's\n",
    "    result = sitk.Transformix(mask_luna, elastixImageFilter.GetTransformParameterMap())\n",
    "    \n",
    "    return result"
   ]
  },
  {
   "cell_type": "code",
   "execution_count": null,
   "metadata": {},
   "outputs": [
    {
     "name": "stdout",
     "output_type": "stream",
     "text": [
      "LUNA dataset has 742 images\n",
      "KAGGLE dataset has 1595 images\n"
     ]
    }
   ],
   "source": [
    "luna_images_paths = glob(LUNA_DATASET_PATH + \"subset*/*.mhd\")\n",
    "kaggle_images_paths = glob(KAGGLE_DATASET_PATH + \"stage1/*\")\n",
    "\n",
    "luna_segmentation_paths = glob(LUNA_DATASET_PATH + \"seg-lungs-LUNA16/*.mhd\")\n",
    "luna_segmentation_paths_by_id = {get_id_luna_image(path): path for path in luna_segmentation_paths}\n",
    "\n",
    "kaggle_segmentation_paths = glob(KAGGLE_DATASET_PATH + \"seg-lungs-KAGGLE-all/*\" + EXPORT_MASK_IMAGE_FORMAT)\n",
    "kaggle_segmentation_paths_by_id = {get_id_kaggle_mask(path): path for path in kaggle_segmentation_paths}\n",
    "\n",
    "print(\"LUNA dataset has %d images\" % (len(luna_images_paths)))\n",
    "print(\"KAGGLE dataset has %d images\" % (len(kaggle_images_paths)))\n"
   ]
  },
  {
   "cell_type": "code",
   "execution_count": null,
   "metadata": {},
   "outputs": [
    {
     "name": "stdout",
     "output_type": "stream",
     "text": [
      "Segmenting 1 out of 2544025 total images\n",
      "Skipping 0015ceb851d7251b8f399e39779d1e7d using 1.3.6.1.4.1.14519.5.2.1.6279.6001.105756658031515062000744821260 as base: already segmented\n",
      "Segmenting 2 out of 2544025 total images\n",
      "Skipping 0015ceb851d7251b8f399e39779d1e7d using 1.3.6.1.4.1.14519.5.2.1.6279.6001.108197895896446896160048741492 as base: already segmented\n",
      "Segmenting 3 out of 2544025 total images\n",
      "Skipping 0015ceb851d7251b8f399e39779d1e7d using 1.3.6.1.4.1.14519.5.2.1.6279.6001.109002525524522225658609808059 as base: already segmented\n",
      "Segmenting 4 out of 2544025 total images\n",
      "CPU times: user 17min 20s, sys: 1min 9s, total: 18min 29s\n",
      "Wall time: 11min 21s\n",
      "Saved segmentation for 0015ceb851d7251b8f399e39779d1e7d using 1.3.6.1.4.1.14519.5.2.1.6279.6001.111172165674661221381920536987 as base\n",
      "Segmenting 5 out of 2544025 total images\n",
      "Skipping 0015ceb851d7251b8f399e39779d1e7d using 1.3.6.1.4.1.14519.5.2.1.6279.6001.122763913896761494371822656720 as base: already segmented\n",
      "Segmenting 6 out of 2544025 total images\n",
      "Skipping 0015ceb851d7251b8f399e39779d1e7d using 1.3.6.1.4.1.14519.5.2.1.6279.6001.124154461048929153767743874565 as base: already segmented\n",
      "Segmenting 7 out of 2544025 total images\n",
      "Skipping 0015ceb851d7251b8f399e39779d1e7d using 1.3.6.1.4.1.14519.5.2.1.6279.6001.126121460017257137098781143514 as base: already segmented\n",
      "Segmenting 8 out of 2544025 total images\n"
     ]
    }
   ],
   "source": [
    "iteration = 0\n",
    "max_iterations = len(kaggle_images_paths) * len(kaggle_images_paths)\n",
    "for kaggle_image_path in kaggle_images_paths:\n",
    "    id_kaggle = get_id_kaggle_image(kaggle_image_path)\n",
    "    for luna_image_path in luna_images_paths:\n",
    "        iteration += 1\n",
    "        print(\"Segmenting %d out of %d total images\" % (iteration, max_iterations))\n",
    "        \n",
    "        id_luna = get_id_luna_image(luna_image_path)\n",
    "        \n",
    "        # First check if image has already been segmented and skip if that is the case\n",
    "        if kaggle_segmentation_paths_by_id.get((id_kaggle, id_luna)):\n",
    "            print(\"Skipping %s using %s as base: already segmented\" % (id_kaggle, id_luna))\n",
    "            continue\n",
    "\n",
    "        # Load the images\n",
    "        img_kaggle = load_kaggle_image(kaggle_image_path)\n",
    "        img_luna = load_luna_image(luna_image_path)\n",
    "        mask_luna = load_luna_image(luna_segmentation_paths_by_id[id_luna])\n",
    "        \n",
    "        # Register and calculate kaggle segmentation mask\n",
    "        %time mask_kaggle = calculate_kaggle_segmentation_mask(img_kaggle, img_luna, mask_luna)\n",
    "        \n",
    "        # Reduce byte depth\n",
    "        mask_kaggle = sitk.Cast(mask_kaggle, sitk.sitkInt8)\n",
    "        \n",
    "        # Store mask to file\n",
    "        id_kaggle_luna = id_kaggle + \"_\" + id_luna\n",
    "        mask_kaggle_path = KAGGLE_DATASET_PATH + \"seg-lungs-KAGGLE-all/\" + id_kaggle_luna + EXPORT_MASK_IMAGE_FORMAT\n",
    "        sitk.WriteImage(mask_kaggle, mask_kaggle_path)\n",
    "        \n",
    "        print(\"Saved segmentation for %s using %s as base\" % (id_kaggle, id_luna))"
   ]
  }
 ],
 "metadata": {
  "kernelspec": {
   "display_name": "Python 3",
   "language": "python",
   "name": "python3"
  },
  "language_info": {
   "codemirror_mode": {
    "name": "ipython",
    "version": 3
   },
   "file_extension": ".py",
   "mimetype": "text/x-python",
   "name": "python",
   "nbconvert_exporter": "python",
   "pygments_lexer": "ipython3",
   "version": "3.6.3"
  }
 },
 "nbformat": 4,
 "nbformat_minor": 2
}
