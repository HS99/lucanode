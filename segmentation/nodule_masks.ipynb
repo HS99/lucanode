{
 "cells": [
  {
   "cell_type": "code",
   "execution_count": 61,
   "metadata": {},
   "outputs": [
    {
     "ename": "ModuleNotFoundError",
     "evalue": "No module named 'ipyparallel'",
     "output_type": "error",
     "traceback": [
      "\u001b[0;31m---------------------------------------------------------------------------\u001b[0m",
      "\u001b[0;31mModuleNotFoundError\u001b[0m                       Traceback (most recent call last)",
      "\u001b[0;32m<ipython-input-61-1fdb57f9e36c>\u001b[0m in \u001b[0;36m<module>\u001b[0;34m()\u001b[0m\n\u001b[0;32m----> 1\u001b[0;31m \u001b[0;32mimport\u001b[0m \u001b[0mipyparallel\u001b[0m \u001b[0;32mas\u001b[0m \u001b[0mipp\u001b[0m\u001b[0;34m\u001b[0m\u001b[0m\n\u001b[0m\u001b[1;32m      2\u001b[0m \u001b[0mrc\u001b[0m \u001b[0;34m=\u001b[0m \u001b[0mipp\u001b[0m\u001b[0;34m.\u001b[0m\u001b[0mClient\u001b[0m\u001b[0;34m(\u001b[0m\u001b[0;34m)\u001b[0m\u001b[0;34m\u001b[0m\u001b[0m\n\u001b[1;32m      3\u001b[0m \u001b[0mview\u001b[0m \u001b[0;34m=\u001b[0m \u001b[0mrc\u001b[0m\u001b[0;34m[\u001b[0m\u001b[0;34m:\u001b[0m\u001b[0;34m]\u001b[0m\u001b[0;34m\u001b[0m\u001b[0m\n",
      "\u001b[0;31mModuleNotFoundError\u001b[0m: No module named 'ipyparallel'"
     ]
    }
   ],
   "source": [
    "import ipyparallel as ipp\n",
    "rc = ipp.Client()\n",
    "view = rc[:]"
   ]
  },
  {
   "cell_type": "code",
   "execution_count": 62,
   "metadata": {},
   "outputs": [
    {
     "name": "stderr",
     "output_type": "stream",
     "text": [
      "UsageError: Cell magic `%%px` not found.\n"
     ]
    }
   ],
   "source": [
    "%%px --local\n",
    "from glob import glob\n",
    "import SimpleITK as sitk\n",
    "import numpy as np\n",
    "import pandas as pd\n",
    "import math\n",
    "from collections import defaultdict"
   ]
  },
  {
   "cell_type": "code",
   "execution_count": 63,
   "metadata": {},
   "outputs": [
    {
     "name": "stderr",
     "output_type": "stream",
     "text": [
      "UsageError: Cell magic `%%px` not found.\n"
     ]
    }
   ],
   "source": [
    "%%px --local\n",
    "LUNA_DATASET_PATH = \"/mnt/DATASETS/LUNA/\"\n",
    "EXPORT_MASK_IMAGE_FORMAT = \".nii.gz\""
   ]
  },
  {
   "cell_type": "code",
   "execution_count": 5,
   "metadata": {},
   "outputs": [],
   "source": [
    "def get_id_luna_image(path):\n",
    "    return path.split(\"/\")[-1].split(\".mhd\")[0]\n",
    "\n",
    "def get_id_luna_nodule_mask(path):\n",
    "    return path.split(\"/\")[-1].split(EXPORT_MASK_IMAGE_FORMAT)[0]\n",
    "\n",
    "def load_luna_image(path):\n",
    "    return sitk.ReadImage(path)"
   ]
  },
  {
   "cell_type": "code",
   "execution_count": 16,
   "metadata": {},
   "outputs": [
    {
     "name": "stdout",
     "output_type": "stream",
     "text": [
      "LUNA dataset has 742 images\n"
     ]
    },
    {
     "data": {
      "text/html": [
       "<div>\n",
       "<style scoped>\n",
       "    .dataframe tbody tr th:only-of-type {\n",
       "        vertical-align: middle;\n",
       "    }\n",
       "\n",
       "    .dataframe tbody tr th {\n",
       "        vertical-align: top;\n",
       "    }\n",
       "\n",
       "    .dataframe thead th {\n",
       "        text-align: right;\n",
       "    }\n",
       "</style>\n",
       "<table border=\"1\" class=\"dataframe\">\n",
       "  <thead>\n",
       "    <tr style=\"text-align: right;\">\n",
       "      <th></th>\n",
       "      <th>seriesuid</th>\n",
       "      <th>coordX</th>\n",
       "      <th>coordY</th>\n",
       "      <th>coordZ</th>\n",
       "      <th>diameter_mm</th>\n",
       "      <th>image_path</th>\n",
       "    </tr>\n",
       "  </thead>\n",
       "  <tbody>\n",
       "    <tr>\n",
       "      <th>0</th>\n",
       "      <td>1.3.6.1.4.1.14519.5.2.1.6279.6001.100225287222...</td>\n",
       "      <td>-128.699421</td>\n",
       "      <td>-175.319272</td>\n",
       "      <td>-298.387506</td>\n",
       "      <td>5.651471</td>\n",
       "      <td>/mnt/DATASETS/LUNA/subset8/1.3.6.1.4.1.14519.5...</td>\n",
       "    </tr>\n",
       "    <tr>\n",
       "      <th>1</th>\n",
       "      <td>1.3.6.1.4.1.14519.5.2.1.6279.6001.100225287222...</td>\n",
       "      <td>103.783651</td>\n",
       "      <td>-211.925149</td>\n",
       "      <td>-227.121250</td>\n",
       "      <td>4.224708</td>\n",
       "      <td>/mnt/DATASETS/LUNA/subset8/1.3.6.1.4.1.14519.5...</td>\n",
       "    </tr>\n",
       "    <tr>\n",
       "      <th>2</th>\n",
       "      <td>1.3.6.1.4.1.14519.5.2.1.6279.6001.100398138793...</td>\n",
       "      <td>69.639017</td>\n",
       "      <td>-140.944586</td>\n",
       "      <td>876.374496</td>\n",
       "      <td>5.786348</td>\n",
       "      <td>/mnt/DATASETS/LUNA/subset5/1.3.6.1.4.1.14519.5...</td>\n",
       "    </tr>\n",
       "    <tr>\n",
       "      <th>3</th>\n",
       "      <td>1.3.6.1.4.1.14519.5.2.1.6279.6001.100621383016...</td>\n",
       "      <td>-24.013824</td>\n",
       "      <td>192.102405</td>\n",
       "      <td>-391.081276</td>\n",
       "      <td>8.143262</td>\n",
       "      <td>/mnt/DATASETS/LUNA/subset2/1.3.6.1.4.1.14519.5...</td>\n",
       "    </tr>\n",
       "    <tr>\n",
       "      <th>4</th>\n",
       "      <td>1.3.6.1.4.1.14519.5.2.1.6279.6001.100621383016...</td>\n",
       "      <td>2.441547</td>\n",
       "      <td>172.464881</td>\n",
       "      <td>-405.493732</td>\n",
       "      <td>18.545150</td>\n",
       "      <td>/mnt/DATASETS/LUNA/subset2/1.3.6.1.4.1.14519.5...</td>\n",
       "    </tr>\n",
       "  </tbody>\n",
       "</table>\n",
       "</div>"
      ],
      "text/plain": [
       "                                           seriesuid      coordX      coordY  \\\n",
       "0  1.3.6.1.4.1.14519.5.2.1.6279.6001.100225287222... -128.699421 -175.319272   \n",
       "1  1.3.6.1.4.1.14519.5.2.1.6279.6001.100225287222...  103.783651 -211.925149   \n",
       "2  1.3.6.1.4.1.14519.5.2.1.6279.6001.100398138793...   69.639017 -140.944586   \n",
       "3  1.3.6.1.4.1.14519.5.2.1.6279.6001.100621383016...  -24.013824  192.102405   \n",
       "4  1.3.6.1.4.1.14519.5.2.1.6279.6001.100621383016...    2.441547  172.464881   \n",
       "\n",
       "       coordZ  diameter_mm                                         image_path  \n",
       "0 -298.387506     5.651471  /mnt/DATASETS/LUNA/subset8/1.3.6.1.4.1.14519.5...  \n",
       "1 -227.121250     4.224708  /mnt/DATASETS/LUNA/subset8/1.3.6.1.4.1.14519.5...  \n",
       "2  876.374496     5.786348  /mnt/DATASETS/LUNA/subset5/1.3.6.1.4.1.14519.5...  \n",
       "3 -391.081276     8.143262  /mnt/DATASETS/LUNA/subset2/1.3.6.1.4.1.14519.5...  \n",
       "4 -405.493732    18.545150  /mnt/DATASETS/LUNA/subset2/1.3.6.1.4.1.14519.5...  "
      ]
     },
     "execution_count": 16,
     "metadata": {},
     "output_type": "execute_result"
    }
   ],
   "source": [
    "luna_images_paths = glob(LUNA_DATASET_PATH + \"subset*/*.mhd\")\n",
    "luna_nodule_mask_paths = glob(LUNA_DATASET_PATH + \"seg-nodules-LUNA16/*\" + EXPORT_MASK_IMAGE_FORMAT)\n",
    "\n",
    "luna_image_ids = { get_id_luna_image(path): path for path in luna_images_paths }\n",
    "luna_nodule_mask_ids = { get_id_luna_nodule_mask(path): path for path in luna_nodule_mask_paths }\n",
    "\n",
    "# Discard processed images\n",
    "luna_image_ids = {k: v for k,v in luna_image_ids.items() if k not in luna_nodule_mask_ids}\n",
    "\n",
    "print(\"LUNA dataset has %d images\" % (len(luna_images_paths)))\n",
    "df = pd.read_csv(LUNA_DATASET_PATH + \"/CSVFILES/annotations.csv\")\n",
    "df.sort_values(by=['seriesuid'], inplace=True)\n",
    "df[\"image_path\"] = df.apply(lambda x: luna_image_ids.get(x.seriesuid), axis=1)\n",
    "df.head()"
   ]
  },
  {
   "cell_type": "code",
   "execution_count": 33,
   "metadata": {},
   "outputs": [],
   "source": [
    "annotations = defaultdict(list)\n",
    "for row in df.itertuples():\n",
    "    key = row.image_path\n",
    "    entry = (\n",
    "        row.coordX,\n",
    "        row.coordY,\n",
    "        row.coordZ,\n",
    "        row.diameter_mm,\n",
    "    )\n",
    "    annotations[key].append(entry)"
   ]
  },
  {
   "cell_type": "code",
   "execution_count": 59,
   "metadata": {},
   "outputs": [],
   "source": [
    "def create_slice_nodule_mask(pos_nodule, rad_nodule, slice_shape, img):\n",
    "    mask_arr_slice = np.zeros(slice_shape)\n",
    "    X, Y = slice_shape\n",
    "    idxs = np.zeros((X*Y, 2))\n",
    "    for y in range(Y):\n",
    "        for x in range(X):\n",
    "            idxs[y*Y + x, :] = np.array(img.TransformIndexToPhysicalPoint((x, y, 0))[:2])\n",
    "    mask_1d = np.sqrt(np.sum((idxs - pos_nodule)**2, axis=1)) <= rad_nodule\n",
    "    return mask_1d.reshape((X,Y))\n",
    "\n",
    "def calc_radius_projection(z_center, radius, z_slice):\n",
    "    return math.sqrt(radius**2 - abs(z_center - z_slice)**2)\n",
    "\n",
    "def create_nodule_mask(img_path, nodules):\n",
    "    img = sitk.ReadImage(img_path)\n",
    "    img_arr = sitk.GetArrayViewFromImage(img)\n",
    "    mask_arr = np.zeros(img_arr.shape, dtype=np.bool)\n",
    "    for nodule in nodules:\n",
    "        x, y, z, nodule_diameter = nodule\n",
    "        nodule_radius = nodule_diameter / 2\n",
    "        nodule_point = np.array([x, y])\n",
    "\n",
    "        min_z = z - nodule_radius\n",
    "        max_z = z + nodule_radius\n",
    "        min_slice_idx = math.ceil(img.TransformPhysicalPointToContinuousIndex((x, y, min_z))[2])\n",
    "        max_slice_idx = math.floor(img.TransformPhysicalPointToContinuousIndex((x, y, max_z))[2])\n",
    "\n",
    "        slice_idxs = list(range(min_slice_idx, max_slice_idx + 1))\n",
    "        slice_z_coords = [\n",
    "            img.TransformIndexToPhysicalPoint((0, 0, idx))[2]\n",
    "            for idx in slice_idxs\n",
    "        ]\n",
    "        slice_radius = [\n",
    "            calc_radius_projection(z, nodule_radius, z_slice)\n",
    "            for z_slice in slice_z_coords\n",
    "        ]\n",
    "        for idx, z_coords, radius in zip(slice_idxs, slice_z_coords, slice_radius):\n",
    "            mask = create_slice_nodule_mask(nodule_point, radius, img_arr.shape[1:], img)\n",
    "            mask_arr[idx, :, :] |= mask\n",
    "    # Save mask to file\n",
    "    mask_img = sitk.GetImageFromArray(mask_arr.astype(np.uint8))\n",
    "    mask_img.SetSpacing(img.GetSpacing())\n",
    "    mask_img.SetOrigin(img.GetOrigin())\n",
    "    mask_img_path = LUNA_DATASET_PATH + \"seg-nodules-LUNA16/\" + get_id_luna_image(img_path) + EXPORT_MASK_IMAGE_FORMAT\n",
    "    sitk.WriteImage(mask_img, mask_img_path)\n"
   ]
  },
  {
   "cell_type": "code",
   "execution_count": null,
   "metadata": {},
   "outputs": [],
   "source": [
    "view.map(\n",
    "    create_nodule_mask,\n",
    "    annotations.keys(),\n",
    "    annotations.values(),\n",
    ").wait()"
   ]
  }
 ],
 "metadata": {
  "kernelspec": {
   "display_name": "Python 3",
   "language": "python",
   "name": "python3"
  },
  "language_info": {
   "codemirror_mode": {
    "name": "ipython",
    "version": 3
   },
   "file_extension": ".py",
   "mimetype": "text/x-python",
   "name": "python",
   "nbconvert_exporter": "python",
   "pygments_lexer": "ipython3",
   "version": "3.6.3"
  }
 },
 "nbformat": 4,
 "nbformat_minor": 2
}
