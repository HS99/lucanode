{
 "cells": [
  {
   "cell_type": "code",
   "execution_count": 1,
   "metadata": {},
   "outputs": [
    {
     "name": "stderr",
     "output_type": "stream",
     "text": [
      "/home/ofont/miniconda3/envs/lucanode/lib/python3.6/site-packages/h5py/__init__.py:36: FutureWarning: Conversion of the second argument of issubdtype from `float` to `np.floating` is deprecated. In future, it will be treated as `np.float64 == np.dtype(float).type`.\n",
      "  from ._conv import register_converters as _register_converters\n"
     ]
    }
   ],
   "source": [
    "# Add spacing, origin and subset metadata to the HDF5 dataset\n",
    "import pandas as pd\n",
    "from pathlib import Path\n",
    "import SimpleITK as sitk\n",
    "from tqdm import tqdm\n",
    "import h5py"
   ]
  },
  {
   "cell_type": "code",
   "execution_count": 22,
   "metadata": {},
   "outputs": [],
   "source": [
    "files = [f for f in Path(\"/mnt/Data/LUNA/dataset\").glob(\"subset*/1.*.mhd\")]"
   ]
  },
  {
   "cell_type": "code",
   "execution_count": 23,
   "metadata": {},
   "outputs": [],
   "source": [
    "def get_subset(f):\n",
    "    return int(str(f).split(\"/\")[-2][-1])\n",
    "def get_id(f):\n",
    "    return str(f).split(\"/\")[-1].split(\".mhd\")[0]\n",
    "def get_origin(f):\n",
    "    img = sitk.ReadImage(str(f))\n",
    "    return img.GetOrigin()"
   ]
  },
  {
   "cell_type": "code",
   "execution_count": 32,
   "metadata": {},
   "outputs": [
    {
     "name": "stderr",
     "output_type": "stream",
     "text": [
      "100%|██████████| 888/888 [10:07<00:00,  1.46it/s]\n"
     ]
    }
   ],
   "source": [
    "raw_df = [(get_id(f), get_subset(f), get_origin(f)) for f in tqdm(files)]"
   ]
  },
  {
   "cell_type": "code",
   "execution_count": 43,
   "metadata": {},
   "outputs": [
    {
     "name": "stderr",
     "output_type": "stream",
     "text": [
      "100%|██████████| 888/888 [01:13<00:00, 12.12it/s]\n"
     ]
    }
   ],
   "source": [
    "f = h5py.File(\"/mnt/Data/LUNA/dataset_05mm.hdf5\", \"r+\")\n",
    "for metadata in tqdm(raw_df):\n",
    "    seriesuid = metadata[0]\n",
    "    subset = metadata[1]\n",
    "    origin = metadata[2]\n",
    "    spacing = (0.5, 0.5, 0.5)\n",
    "    for g in f.keys():\n",
    "        if seriesuid not in f[g]:\n",
    "            continue\n",
    "        f[g][seriesuid].attrs[\"subset\"] = subset\n",
    "        f[g][seriesuid].attrs[\"origin\"] = origin\n",
    "        f[g][seriesuid].attrs[\"spacing\"] = spacing\n",
    "f.close()"
   ]
  },
  {
   "cell_type": "code",
   "execution_count": null,
   "metadata": {},
   "outputs": [],
   "source": []
  }
 ],
 "metadata": {
  "kernelspec": {
   "display_name": "Python 3",
   "language": "python",
   "name": "python3"
  },
  "language_info": {
   "codemirror_mode": {
    "name": "ipython",
    "version": 3
   },
   "file_extension": ".py",
   "mimetype": "text/x-python",
   "name": "python",
   "nbconvert_exporter": "python",
   "pygments_lexer": "ipython3",
   "version": "3.6.4"
  }
 },
 "nbformat": 4,
 "nbformat_minor": 2
}
