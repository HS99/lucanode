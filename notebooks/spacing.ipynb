{
 "cells": [
  {
   "cell_type": "code",
   "execution_count": 1,
   "metadata": {},
   "outputs": [
    {
     "name": "stderr",
     "output_type": "stream",
     "text": [
      "/Users/octavi/miniconda3/envs/lucanode/lib/python3.6/site-packages/ipyparallel/client/client.py:442: RuntimeWarning: \n",
      "            Controller appears to be listening on localhost, but not on this machine.\n",
      "            If this is true, you should specify Client(...,sshserver='you@84.89.158.111')\n",
      "            or instruct your controller to listen on an external IP.\n",
      "  RuntimeWarning)\n"
     ]
    }
   ],
   "source": [
    "import ipyparallel as ipp\n",
    "rc = ipp.Client()\n",
    "view = rc[:]"
   ]
  },
  {
   "cell_type": "code",
   "execution_count": 2,
   "metadata": {},
   "outputs": [],
   "source": [
    "%%px --local\n",
    "from glob import glob\n",
    "import SimpleITK as sitk\n",
    "import numpy as np\n",
    "from scipy.ndimage import zoom"
   ]
  },
  {
   "cell_type": "code",
   "execution_count": 3,
   "metadata": {},
   "outputs": [],
   "source": [
    "%%px --local\n",
    "KAGGLE_DATASET_PATH = \"/mnt/Data/KAGGLE/\"\n",
    "LUNA_DATASET_PATH = \"/Volumes/DATASETS/LUNA/\"\n",
    "EXPORT_IMAGE_FORMAT = \".nii.gz\"\n",
    "EXPORT_SPACING = np.array([1.0, 1.0, 1.0])  # (z, y, x). They HAVE to be floats"
   ]
  },
  {
   "cell_type": "code",
   "execution_count": 4,
   "metadata": {},
   "outputs": [],
   "source": [
    "%%px --local\n",
    "def get_id_luna_image(path):\n",
    "    return path.split(\"/\")[-1].split(\".mhd\")[0]\n",
    "\n",
    "def get_id_equalized_luna_image(path):\n",
    "    return path.split(\"/\")[-1].split(EXPORT_IMAGE_FORMAT)[0]\n",
    "\n",
    "def load_luna_image(path):\n",
    "    return sitk.ReadImage(path)\n",
    "\n",
    "def get_id_kaggle_image(path):\n",
    "    return path.split(\"/\")[-1]\n",
    "\n",
    "def load_kaggle_image(path):    \n",
    "    reader = sitk.ImageSeriesReader()\n",
    "    dicom_names = reader.GetGDCMSeriesFileNames(path)\n",
    "    reader.SetFileNames(dicom_names)\n",
    "    image = reader.Execute()\n",
    "    return image\n",
    "\n",
    "def get_id_kaggle_mask(path):\n",
    "    return tuple(path.split(\"/\")[-1].split(EXPORT_MASK_IMAGE_FORMAT)[0].split(\"_\"))\n"
   ]
  },
  {
   "cell_type": "code",
   "execution_count": 12,
   "metadata": {},
   "outputs": [],
   "source": [
    "# Lists all the images in the dataset\n",
    "luna_image_paths = glob(LUNA_DATASET_PATH + \"dataset/subset*/*.mhd\")\n",
    "# This path should exist beforehand for the ImageWrite to work\n",
    "export_luna_dataset_path = LUNA_DATASET_PATH + \"equalized_spacing/\"\n",
    "# List equalized images\n",
    "luna_equalized_image_paths = glob(export_luna_dataset_path + \"*\" + EXPORT_IMAGE_FORMAT)"
   ]
  },
  {
   "cell_type": "code",
   "execution_count": 13,
   "metadata": {},
   "outputs": [],
   "source": [
    "luna_ids = {get_id_luna_image(path) for path in luna_image_paths}\n",
    "equalized_luna_ids = {get_id_equalized_luna_image(path) for path in luna_equalized_image_paths}\n",
    "pending_ids = luna_ids - equalized_luna_ids\n",
    "remaining_luna_image_paths = [path for path in luna_image_paths if get_id_luna_image(path) in pending_ids]"
   ]
  },
  {
   "cell_type": "code",
   "execution_count": 15,
   "metadata": {},
   "outputs": [
    {
     "name": "stdout",
     "output_type": "stream",
     "text": [
      "0\n"
     ]
    }
   ],
   "source": [
    "print(len(remaining_luna_image_paths))"
   ]
  },
  {
   "cell_type": "code",
   "execution_count": null,
   "metadata": {},
   "outputs": [],
   "source": [
    "def equalize_img_spacings(img_path, export_dataset_path, load_fn, get_id_fn):\n",
    "    # Load CT scan\n",
    "    img = load_fn(img_path)\n",
    "    img_arr = sitk.GetArrayViewFromImage(img)\n",
    "    img_spacing = img.GetSpacing()[::-1]  # since sitk is (x,y,z) but np.array (z,y,x)\n",
    "\n",
    "    # Resize CT scan\n",
    "    resize_factor = img_spacing / EXPORT_SPACING\n",
    "    img_resized_arr = zoom(img_arr, resize_factor)\n",
    "\n",
    "    # Set resized scan back as a SimpleITK image object\n",
    "    img_resized = sitk.GetImageFromArray(img_resized_arr)\n",
    "    img_resized.SetSpacing(EXPORT_SPACING)\n",
    "    img_resized.SetOrigin(img.GetOrigin())\n",
    "\n",
    "    # Write image to disk\n",
    "    export_img_path = export_dataset_path + get_id_fn(img_path) + EXPORT_IMAGE_FORMAT\n",
    "    sitk.WriteImage(img_resized, export_img_path)"
   ]
  },
  {
   "cell_type": "code",
   "execution_count": null,
   "metadata": {},
   "outputs": [],
   "source": [
    "image_paths = remaining_luna_image_paths\n",
    "export_luna_dataset_paths = [export_luna_dataset_path] * len(image_paths)\n",
    "load_luna_image_fns = [load_luna_image] * len(image_paths)\n",
    "get_id_luna_image_fns = [get_id_luna_image] * len(image_paths)\n",
    "\n",
    "view.map(\n",
    "    equalize_img_spacings,\n",
    "    image_paths,\n",
    "    export_luna_dataset_paths,\n",
    "    load_luna_image_fns,\n",
    "    get_id_luna_image_fns\n",
    ").wait()"
   ]
  },
  {
   "cell_type": "code",
   "execution_count": null,
   "metadata": {},
   "outputs": [],
   "source": []
  }
 ],
 "metadata": {
  "kernelspec": {
   "display_name": "Python 3",
   "language": "python",
   "name": "python3"
  },
  "language_info": {
   "codemirror_mode": {
    "name": "ipython",
    "version": 3
   },
   "file_extension": ".py",
   "mimetype": "text/x-python",
   "name": "python",
   "nbconvert_exporter": "python",
   "pygments_lexer": "ipython3",
   "version": "3.6.4"
  }
 },
 "nbformat": 4,
 "nbformat_minor": 2
}
