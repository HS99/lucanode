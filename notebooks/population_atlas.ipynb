{
 "cells": [
  {
   "cell_type": "code",
   "execution_count": 1,
   "metadata": {},
   "outputs": [],
   "source": [
    "from glob import glob\n",
    "import SimpleITK as sitk"
   ]
  },
  {
   "cell_type": "code",
   "execution_count": 2,
   "metadata": {},
   "outputs": [],
   "source": [
    "LUNA_DATASET_PATH = \"/mnt/DATASETS/LUNA/\"\n",
    "EXPORT_IMAGE_FORMAT = \".nii.gz\""
   ]
  },
  {
   "cell_type": "code",
   "execution_count": 3,
   "metadata": {},
   "outputs": [],
   "source": [
    "def get_id_luna_image(path):\n",
    "    return path.split(\"/\")[-1].split(\".mhd\")[0]\n",
    "\n",
    "def load_luna_image(path):\n",
    "    return sitk.ReadImage(path)"
   ]
  },
  {
   "cell_type": "code",
   "execution_count": 20,
   "metadata": {},
   "outputs": [],
   "source": [
    "def calculate_transformation_map(fixed_image, moving_image, moving_image_mask):\n",
    "    \"\"\"Registers moving_image to fixed_image and applies the resulting to transformation to moving_image_mask,\n",
    "    which is returned as a new image.\n",
    "    Performing a multiresolution image registration, with translation, affine and non-rigid transformations.\n",
    "    \"\"\"\n",
    "    # Apply the mask to the luna image. We don't want to register the whole ribcage, just the lungs\n",
    "    mask_image_filter = sitk.MaskImageFilter()\n",
    "    masked_moving_image = mask_image_filter.Execute(moving_image, moving_image_mask)\n",
    "    \n",
    "    # Registration parameters\n",
    "    parameterMapVector = sitk.VectorOfParameterMap()\n",
    "    parameterMapVector.append(sitk.GetDefaultParameterMap(\"translation\"))\n",
    "    parameterMapVector.append(sitk.GetDefaultParameterMap(\"affine\"))\n",
    "    parameterMapVector.append(sitk.GetDefaultParameterMap(\"bspline\"))\n",
    "    \n",
    "    # Perform registration\n",
    "    elastixImageFilter = sitk.ElastixImageFilter()\n",
    "    elastixImageFilter.SetFixedImage(fixed_image)\n",
    "    elastixImageFilter.SetMovingImage(masked_moving_image)\n",
    "    elastixImageFilter.SetParameterMap(parameterMapVector)\n",
    "    elastixImageFilter.Execute()\n",
    "    \n",
    "    # Return transformation parameter map\n",
    "    return elastixImageFilter\n",
    "\n",
    "def calculate_average_image_transformation(image, transformations):\n",
    "    transformixFilter = sitk.TransformixImageFilter()\n",
    "    transformixFilter.SetMovingImage(image)\n",
    "    transformixFilter.SetTransformParameterMap(transformations[0].GetTransformParameterMap())\n",
    "    for transformation_tuple in transformations[1:]:\n",
    "        for transformation in transformation_tuple.GetTransformParameterMap():\n",
    "            transformixFilter.AddTransformParameterMap(transformation)\n",
    "    transformixFilter.Execute()\n",
    "    return transformixFilter.GetResultImage()"
   ]
  },
  {
   "cell_type": "code",
   "execution_count": 5,
   "metadata": {},
   "outputs": [
    {
     "name": "stdout",
     "output_type": "stream",
     "text": [
      "LUNA dataset has 742 images\n"
     ]
    }
   ],
   "source": [
    "luna_images_paths = glob(LUNA_DATASET_PATH + \"subset*/*.mhd\")\n",
    "\n",
    "luna_segmentation_paths = glob(LUNA_DATASET_PATH + \"seg-lungs-LUNA16/*.mhd\")\n",
    "luna_segmentation_paths_by_id = {get_id_luna_image(path): path for path in luna_segmentation_paths}\n",
    "\n",
    "print(\"LUNA dataset has %d images\" % (len(luna_images_paths)))"
   ]
  },
  {
   "cell_type": "code",
   "execution_count": 6,
   "metadata": {},
   "outputs": [],
   "source": [
    "fixed_image_paths = luna_images_paths[:2]\n",
    "moving_image_path = luna_images_paths[-1]\n",
    "\n",
    "num_iterations = 1"
   ]
  },
  {
   "cell_type": "code",
   "execution_count": 7,
   "metadata": {},
   "outputs": [
    {
     "name": "stdout",
     "output_type": "stream",
     "text": [
      "Starting iteration 1 of the creation of a population atlas\n",
      "Registering image 1 out of 2\n",
      "CPU times: user 9min 25s, sys: 16.7 s, total: 9min 42s\n",
      "Wall time: 5min 7s\n",
      "Registering image 2 out of 2\n",
      "CPU times: user 9min 4s, sys: 17.4 s, total: 9min 22s\n",
      "Wall time: 4min 54s\n",
      "Applying average transformation to reference image\n"
     ]
    },
    {
     "ename": "NotImplementedError",
     "evalue": "Wrong number or type of arguments for overloaded function 'TransformixImageFilter_SetTransformParameterMap'.\n  Possible C/C++ prototypes are:\n    itk::simple::TransformixImageFilter::SetTransformParameterMap(std::vector< std::map< std::string,std::vector< std::string,std::allocator< std::string > >,std::less< std::string >,std::allocator< std::pair< std::string const,std::vector< std::string,std::allocator< std::string > > > > >,std::allocator< std::map< std::string,std::vector< std::string,std::allocator< std::string > >,std::less< std::string >,std::allocator< std::pair< std::string const,std::vector< std::string,std::allocator< std::string > > > > > > > const)\n    itk::simple::TransformixImageFilter::SetTransformParameterMap(std::map< std::string,std::vector< std::string,std::allocator< std::string > >,std::less< std::string >,std::allocator< std::pair< std::string const,std::vector< std::string,std::allocator< std::string > > > > > const)\n",
     "output_type": "error",
     "traceback": [
      "\u001b[0;31m---------------------------------------------------------------------------\u001b[0m",
      "\u001b[0;31mNotImplementedError\u001b[0m                       Traceback (most recent call last)",
      "\u001b[0;32m<timed exec>\u001b[0m in \u001b[0;36m<module>\u001b[0;34m()\u001b[0m\n",
      "\u001b[0;32m<ipython-input-4-309972a4a287>\u001b[0m in \u001b[0;36mcalculate_average_image_transformation\u001b[0;34m(image, transformations)\u001b[0m\n\u001b[1;32m     27\u001b[0m     \u001b[0mtransformixFilter\u001b[0m \u001b[0;34m=\u001b[0m \u001b[0msitk\u001b[0m\u001b[0;34m.\u001b[0m\u001b[0mTransformixImageFilter\u001b[0m\u001b[0;34m(\u001b[0m\u001b[0;34m)\u001b[0m\u001b[0;34m\u001b[0m\u001b[0m\n\u001b[1;32m     28\u001b[0m     \u001b[0mtransformixFilter\u001b[0m\u001b[0;34m.\u001b[0m\u001b[0mSetMovingImage\u001b[0m\u001b[0;34m(\u001b[0m\u001b[0mimage\u001b[0m\u001b[0;34m)\u001b[0m\u001b[0;34m\u001b[0m\u001b[0m\n\u001b[0;32m---> 29\u001b[0;31m     \u001b[0mtransformixFilter\u001b[0m\u001b[0;34m.\u001b[0m\u001b[0mSetTransformParameterMap\u001b[0m\u001b[0;34m(\u001b[0m\u001b[0mtransformations\u001b[0m\u001b[0;34m[\u001b[0m\u001b[0;36m0\u001b[0m\u001b[0;34m]\u001b[0m\u001b[0;34m)\u001b[0m\u001b[0;34m\u001b[0m\u001b[0m\n\u001b[0m\u001b[1;32m     30\u001b[0m     \u001b[0;32mfor\u001b[0m \u001b[0mtransformation\u001b[0m \u001b[0;32min\u001b[0m \u001b[0mtransformations\u001b[0m\u001b[0;34m[\u001b[0m\u001b[0;36m1\u001b[0m\u001b[0;34m:\u001b[0m\u001b[0;34m]\u001b[0m\u001b[0;34m:\u001b[0m\u001b[0;34m\u001b[0m\u001b[0m\n\u001b[1;32m     31\u001b[0m         \u001b[0mtransformixFilter\u001b[0m\u001b[0;34m.\u001b[0m\u001b[0mAddTransformParameterMap\u001b[0m\u001b[0;34m(\u001b[0m\u001b[0mtransformation\u001b[0m\u001b[0;34m)\u001b[0m\u001b[0;34m\u001b[0m\u001b[0m\n",
      "\u001b[0;32m/usr/local/lib/python3.6/dist-packages/SimpleITK-1.0.1rc1.dev347+gd92b0-py3.6-linux-x86_64.egg/SimpleITK/SimpleITK.py\u001b[0m in \u001b[0;36mSetTransformParameterMap\u001b[0;34m(self, *args)\u001b[0m\n\u001b[1;32m  10378\u001b[0m         \u001b[0mSetTransformParameterMap\u001b[0m\u001b[0;34m(\u001b[0m\u001b[0mTransformixImageFilter\u001b[0m \u001b[0mself\u001b[0m\u001b[0;34m,\u001b[0m \u001b[0mParameterMap\u001b[0m \u001b[0mparameterMap\u001b[0m\u001b[0;34m)\u001b[0m \u001b[0;34m->\u001b[0m \u001b[0mTransformixImageFilter\u001b[0m\u001b[0;34m\u001b[0m\u001b[0m\n\u001b[1;32m  10379\u001b[0m         \"\"\"\n\u001b[0;32m> 10380\u001b[0;31m         \u001b[0;32mreturn\u001b[0m \u001b[0m_SimpleITK\u001b[0m\u001b[0;34m.\u001b[0m\u001b[0mTransformixImageFilter_SetTransformParameterMap\u001b[0m\u001b[0;34m(\u001b[0m\u001b[0mself\u001b[0m\u001b[0;34m,\u001b[0m \u001b[0;34m*\u001b[0m\u001b[0margs\u001b[0m\u001b[0;34m)\u001b[0m\u001b[0;34m\u001b[0m\u001b[0m\n\u001b[0m\u001b[1;32m  10381\u001b[0m \u001b[0;34m\u001b[0m\u001b[0m\n\u001b[1;32m  10382\u001b[0m \u001b[0;34m\u001b[0m\u001b[0m\n",
      "\u001b[0;31mNotImplementedError\u001b[0m: Wrong number or type of arguments for overloaded function 'TransformixImageFilter_SetTransformParameterMap'.\n  Possible C/C++ prototypes are:\n    itk::simple::TransformixImageFilter::SetTransformParameterMap(std::vector< std::map< std::string,std::vector< std::string,std::allocator< std::string > >,std::less< std::string >,std::allocator< std::pair< std::string const,std::vector< std::string,std::allocator< std::string > > > > >,std::allocator< std::map< std::string,std::vector< std::string,std::allocator< std::string > >,std::less< std::string >,std::allocator< std::pair< std::string const,std::vector< std::string,std::allocator< std::string > > > > > > > const)\n    itk::simple::TransformixImageFilter::SetTransformParameterMap(std::map< std::string,std::vector< std::string,std::allocator< std::string > >,std::less< std::string >,std::allocator< std::pair< std::string const,std::vector< std::string,std::allocator< std::string > > > > > const)\n"
     ]
    },
    {
     "name": "stdout",
     "output_type": "stream",
     "text": [
      "Applying average transformation to reference image mask\n"
     ]
    },
    {
     "ename": "NotImplementedError",
     "evalue": "Wrong number or type of arguments for overloaded function 'TransformixImageFilter_SetTransformParameterMap'.\n  Possible C/C++ prototypes are:\n    itk::simple::TransformixImageFilter::SetTransformParameterMap(std::vector< std::map< std::string,std::vector< std::string,std::allocator< std::string > >,std::less< std::string >,std::allocator< std::pair< std::string const,std::vector< std::string,std::allocator< std::string > > > > >,std::allocator< std::map< std::string,std::vector< std::string,std::allocator< std::string > >,std::less< std::string >,std::allocator< std::pair< std::string const,std::vector< std::string,std::allocator< std::string > > > > > > > const)\n    itk::simple::TransformixImageFilter::SetTransformParameterMap(std::map< std::string,std::vector< std::string,std::allocator< std::string > >,std::less< std::string >,std::allocator< std::pair< std::string const,std::vector< std::string,std::allocator< std::string > > > > > const)\n",
     "output_type": "error",
     "traceback": [
      "\u001b[0;31m---------------------------------------------------------------------------\u001b[0m",
      "\u001b[0;31mNotImplementedError\u001b[0m                       Traceback (most recent call last)",
      "\u001b[0;32m<timed exec>\u001b[0m in \u001b[0;36m<module>\u001b[0;34m()\u001b[0m\n",
      "\u001b[0;32m<ipython-input-4-309972a4a287>\u001b[0m in \u001b[0;36mcalculate_average_image_transformation\u001b[0;34m(image, transformations)\u001b[0m\n\u001b[1;32m     27\u001b[0m     \u001b[0mtransformixFilter\u001b[0m \u001b[0;34m=\u001b[0m \u001b[0msitk\u001b[0m\u001b[0;34m.\u001b[0m\u001b[0mTransformixImageFilter\u001b[0m\u001b[0;34m(\u001b[0m\u001b[0;34m)\u001b[0m\u001b[0;34m\u001b[0m\u001b[0m\n\u001b[1;32m     28\u001b[0m     \u001b[0mtransformixFilter\u001b[0m\u001b[0;34m.\u001b[0m\u001b[0mSetMovingImage\u001b[0m\u001b[0;34m(\u001b[0m\u001b[0mimage\u001b[0m\u001b[0;34m)\u001b[0m\u001b[0;34m\u001b[0m\u001b[0m\n\u001b[0;32m---> 29\u001b[0;31m     \u001b[0mtransformixFilter\u001b[0m\u001b[0;34m.\u001b[0m\u001b[0mSetTransformParameterMap\u001b[0m\u001b[0;34m(\u001b[0m\u001b[0mtransformations\u001b[0m\u001b[0;34m[\u001b[0m\u001b[0;36m0\u001b[0m\u001b[0;34m]\u001b[0m\u001b[0;34m)\u001b[0m\u001b[0;34m\u001b[0m\u001b[0m\n\u001b[0m\u001b[1;32m     30\u001b[0m     \u001b[0;32mfor\u001b[0m \u001b[0mtransformation\u001b[0m \u001b[0;32min\u001b[0m \u001b[0mtransformations\u001b[0m\u001b[0;34m[\u001b[0m\u001b[0;36m1\u001b[0m\u001b[0;34m:\u001b[0m\u001b[0;34m]\u001b[0m\u001b[0;34m:\u001b[0m\u001b[0;34m\u001b[0m\u001b[0m\n\u001b[1;32m     31\u001b[0m         \u001b[0mtransformixFilter\u001b[0m\u001b[0;34m.\u001b[0m\u001b[0mAddTransformParameterMap\u001b[0m\u001b[0;34m(\u001b[0m\u001b[0mtransformation\u001b[0m\u001b[0;34m)\u001b[0m\u001b[0;34m\u001b[0m\u001b[0m\n",
      "\u001b[0;32m/usr/local/lib/python3.6/dist-packages/SimpleITK-1.0.1rc1.dev347+gd92b0-py3.6-linux-x86_64.egg/SimpleITK/SimpleITK.py\u001b[0m in \u001b[0;36mSetTransformParameterMap\u001b[0;34m(self, *args)\u001b[0m\n\u001b[1;32m  10378\u001b[0m         \u001b[0mSetTransformParameterMap\u001b[0m\u001b[0;34m(\u001b[0m\u001b[0mTransformixImageFilter\u001b[0m \u001b[0mself\u001b[0m\u001b[0;34m,\u001b[0m \u001b[0mParameterMap\u001b[0m \u001b[0mparameterMap\u001b[0m\u001b[0;34m)\u001b[0m \u001b[0;34m->\u001b[0m \u001b[0mTransformixImageFilter\u001b[0m\u001b[0;34m\u001b[0m\u001b[0m\n\u001b[1;32m  10379\u001b[0m         \"\"\"\n\u001b[0;32m> 10380\u001b[0;31m         \u001b[0;32mreturn\u001b[0m \u001b[0m_SimpleITK\u001b[0m\u001b[0;34m.\u001b[0m\u001b[0mTransformixImageFilter_SetTransformParameterMap\u001b[0m\u001b[0;34m(\u001b[0m\u001b[0mself\u001b[0m\u001b[0;34m,\u001b[0m \u001b[0;34m*\u001b[0m\u001b[0margs\u001b[0m\u001b[0;34m)\u001b[0m\u001b[0;34m\u001b[0m\u001b[0m\n\u001b[0m\u001b[1;32m  10381\u001b[0m \u001b[0;34m\u001b[0m\u001b[0m\n\u001b[1;32m  10382\u001b[0m \u001b[0;34m\u001b[0m\u001b[0m\n",
      "\u001b[0;31mNotImplementedError\u001b[0m: Wrong number or type of arguments for overloaded function 'TransformixImageFilter_SetTransformParameterMap'.\n  Possible C/C++ prototypes are:\n    itk::simple::TransformixImageFilter::SetTransformParameterMap(std::vector< std::map< std::string,std::vector< std::string,std::allocator< std::string > >,std::less< std::string >,std::allocator< std::pair< std::string const,std::vector< std::string,std::allocator< std::string > > > > >,std::allocator< std::map< std::string,std::vector< std::string,std::allocator< std::string > >,std::less< std::string >,std::allocator< std::pair< std::string const,std::vector< std::string,std::allocator< std::string > > > > > > > const)\n    itk::simple::TransformixImageFilter::SetTransformParameterMap(std::map< std::string,std::vector< std::string,std::allocator< std::string > >,std::less< std::string >,std::allocator< std::pair< std::string const,std::vector< std::string,std::allocator< std::string > > > > > const)\n"
     ]
    },
    {
     "name": "stdout",
     "output_type": "stream",
     "text": [
      "Saved reference image for iteration 1 out of 1\n"
     ]
    }
   ],
   "source": [
    "id_luna = get_id_luna_image(moving_image_path)\n",
    "reference_img = load_luna_image(moving_image_path)\n",
    "reference_img_mask = load_luna_image(luna_segmentation_paths_by_id[id_luna])\n",
    "\n",
    "for i in range(num_iterations):\n",
    "    print(\"Starting iteration %d of the creation of a population atlas\" % (i+1,))\n",
    "    transformations = []\n",
    "    for j, fixed_image_path in enumerate(fixed_image_paths):\n",
    "        print(\"Registering image %d out of %d\" % (j+1, len(fixed_image_paths)))\n",
    "        fixed_img = load_luna_image(fixed_image_path)\n",
    "        %time transformation = calculate_transformation_map(fixed_img, reference_img, reference_img_mask)\n",
    "        transformations.append(transformation)\n",
    "    print(\"Applying average transformation to reference image\")\n",
    "    %time reference_img = calculate_average_image_transformation(reference_img, transformations)\n",
    "    print(\"Applying average transformation to reference image mask\")\n",
    "    %time reference_img_mask = calculate_average_image_transformation(reference_img_mask, transformations)\n",
    "    # Reduce mask byte depth\n",
    "    reference_img_mask = sitk.Cast(reference_img_mask, sitk.sitkInt8)\n",
    "    # Save intermediate results\n",
    "    id_atlas_luna = str(i) + \"_\" + id_luna\n",
    "    img_atlas_path = LUNA_DATASET_PATH + \"atlas/img_\" + id_atlas_luna + EXPORT_IMAGE_FORMAT\n",
    "    sitk.WriteImage(reference_img, img_atlas_path)\n",
    "    mask_atlas_path = LUNA_DATASET_PATH + \"atlas/mask_\" + id_atlas_luna + EXPORT_IMAGE_FORMAT\n",
    "    sitk.WriteImage(reference_img_mask, mask_atlas_path)\n",
    "    print(\"Saved reference image for iteration %d out of %d\" % (i+1, num_iterations))"
   ]
  },
  {
   "cell_type": "code",
   "execution_count": 8,
   "metadata": {},
   "outputs": [
    {
     "ename": "NotImplementedError",
     "evalue": "Wrong number or type of arguments for overloaded function 'TransformixImageFilter_SetTransformParameterMap'.\n  Possible C/C++ prototypes are:\n    itk::simple::TransformixImageFilter::SetTransformParameterMap(std::vector< std::map< std::string,std::vector< std::string,std::allocator< std::string > >,std::less< std::string >,std::allocator< std::pair< std::string const,std::vector< std::string,std::allocator< std::string > > > > >,std::allocator< std::map< std::string,std::vector< std::string,std::allocator< std::string > >,std::less< std::string >,std::allocator< std::pair< std::string const,std::vector< std::string,std::allocator< std::string > > > > > > > const)\n    itk::simple::TransformixImageFilter::SetTransformParameterMap(std::map< std::string,std::vector< std::string,std::allocator< std::string > >,std::less< std::string >,std::allocator< std::pair< std::string const,std::vector< std::string,std::allocator< std::string > > > > > const)\n",
     "output_type": "error",
     "traceback": [
      "\u001b[0;31m---------------------------------------------------------------------------\u001b[0m",
      "\u001b[0;31mNotImplementedError\u001b[0m                       Traceback (most recent call last)",
      "\u001b[0;32m<ipython-input-8-2d70af50fefc>\u001b[0m in \u001b[0;36m<module>\u001b[0;34m()\u001b[0m\n\u001b[0;32m----> 1\u001b[0;31m \u001b[0mnew_reference_img\u001b[0m \u001b[0;34m=\u001b[0m \u001b[0mcalculate_average_image_transformation\u001b[0m\u001b[0;34m(\u001b[0m\u001b[0mreference_img\u001b[0m\u001b[0;34m,\u001b[0m \u001b[0mtransformations\u001b[0m\u001b[0;34m)\u001b[0m\u001b[0;34m\u001b[0m\u001b[0m\n\u001b[0m",
      "\u001b[0;32m<ipython-input-4-309972a4a287>\u001b[0m in \u001b[0;36mcalculate_average_image_transformation\u001b[0;34m(image, transformations)\u001b[0m\n\u001b[1;32m     27\u001b[0m     \u001b[0mtransformixFilter\u001b[0m \u001b[0;34m=\u001b[0m \u001b[0msitk\u001b[0m\u001b[0;34m.\u001b[0m\u001b[0mTransformixImageFilter\u001b[0m\u001b[0;34m(\u001b[0m\u001b[0;34m)\u001b[0m\u001b[0;34m\u001b[0m\u001b[0m\n\u001b[1;32m     28\u001b[0m     \u001b[0mtransformixFilter\u001b[0m\u001b[0;34m.\u001b[0m\u001b[0mSetMovingImage\u001b[0m\u001b[0;34m(\u001b[0m\u001b[0mimage\u001b[0m\u001b[0;34m)\u001b[0m\u001b[0;34m\u001b[0m\u001b[0m\n\u001b[0;32m---> 29\u001b[0;31m     \u001b[0mtransformixFilter\u001b[0m\u001b[0;34m.\u001b[0m\u001b[0mSetTransformParameterMap\u001b[0m\u001b[0;34m(\u001b[0m\u001b[0mtransformations\u001b[0m\u001b[0;34m[\u001b[0m\u001b[0;36m0\u001b[0m\u001b[0;34m]\u001b[0m\u001b[0;34m)\u001b[0m\u001b[0;34m\u001b[0m\u001b[0m\n\u001b[0m\u001b[1;32m     30\u001b[0m     \u001b[0;32mfor\u001b[0m \u001b[0mtransformation\u001b[0m \u001b[0;32min\u001b[0m \u001b[0mtransformations\u001b[0m\u001b[0;34m[\u001b[0m\u001b[0;36m1\u001b[0m\u001b[0;34m:\u001b[0m\u001b[0;34m]\u001b[0m\u001b[0;34m:\u001b[0m\u001b[0;34m\u001b[0m\u001b[0m\n\u001b[1;32m     31\u001b[0m         \u001b[0mtransformixFilter\u001b[0m\u001b[0;34m.\u001b[0m\u001b[0mAddTransformParameterMap\u001b[0m\u001b[0;34m(\u001b[0m\u001b[0mtransformation\u001b[0m\u001b[0;34m)\u001b[0m\u001b[0;34m\u001b[0m\u001b[0m\n",
      "\u001b[0;32m/usr/local/lib/python3.6/dist-packages/SimpleITK-1.0.1rc1.dev347+gd92b0-py3.6-linux-x86_64.egg/SimpleITK/SimpleITK.py\u001b[0m in \u001b[0;36mSetTransformParameterMap\u001b[0;34m(self, *args)\u001b[0m\n\u001b[1;32m  10378\u001b[0m         \u001b[0mSetTransformParameterMap\u001b[0m\u001b[0;34m(\u001b[0m\u001b[0mTransformixImageFilter\u001b[0m \u001b[0mself\u001b[0m\u001b[0;34m,\u001b[0m \u001b[0mParameterMap\u001b[0m \u001b[0mparameterMap\u001b[0m\u001b[0;34m)\u001b[0m \u001b[0;34m->\u001b[0m \u001b[0mTransformixImageFilter\u001b[0m\u001b[0;34m\u001b[0m\u001b[0m\n\u001b[1;32m  10379\u001b[0m         \"\"\"\n\u001b[0;32m> 10380\u001b[0;31m         \u001b[0;32mreturn\u001b[0m \u001b[0m_SimpleITK\u001b[0m\u001b[0;34m.\u001b[0m\u001b[0mTransformixImageFilter_SetTransformParameterMap\u001b[0m\u001b[0;34m(\u001b[0m\u001b[0mself\u001b[0m\u001b[0;34m,\u001b[0m \u001b[0;34m*\u001b[0m\u001b[0margs\u001b[0m\u001b[0;34m)\u001b[0m\u001b[0;34m\u001b[0m\u001b[0m\n\u001b[0m\u001b[1;32m  10381\u001b[0m \u001b[0;34m\u001b[0m\u001b[0m\n\u001b[1;32m  10382\u001b[0m \u001b[0;34m\u001b[0m\u001b[0m\n",
      "\u001b[0;31mNotImplementedError\u001b[0m: Wrong number or type of arguments for overloaded function 'TransformixImageFilter_SetTransformParameterMap'.\n  Possible C/C++ prototypes are:\n    itk::simple::TransformixImageFilter::SetTransformParameterMap(std::vector< std::map< std::string,std::vector< std::string,std::allocator< std::string > >,std::less< std::string >,std::allocator< std::pair< std::string const,std::vector< std::string,std::allocator< std::string > > > > >,std::allocator< std::map< std::string,std::vector< std::string,std::allocator< std::string > >,std::less< std::string >,std::allocator< std::pair< std::string const,std::vector< std::string,std::allocator< std::string > > > > > > > const)\n    itk::simple::TransformixImageFilter::SetTransformParameterMap(std::map< std::string,std::vector< std::string,std::allocator< std::string > >,std::less< std::string >,std::allocator< std::pair< std::string const,std::vector< std::string,std::allocator< std::string > > > > > const)\n"
     ]
    }
   ],
   "source": [
    "new_reference_img = calculate_average_image_transformation(reference_img, transformations)"
   ]
  },
  {
   "cell_type": "code",
   "execution_count": 34,
   "metadata": {},
   "outputs": [],
   "source": [
    "t = transformations[0].GetTransformParameterMap()\n",
    "i = transformations[0]"
   ]
  },
  {
   "cell_type": "code",
   "execution_count": 38,
   "metadata": {},
   "outputs": [
    {
     "data": {
      "text/plain": [
       "<SimpleITK.SimpleITK.ElastixImageFilter; proxy of <Swig Object of type 'itk::simple::ElastixImageFilter::Self *' at 0x7f383f8dec30> >"
      ]
     },
     "execution_count": 38,
     "metadata": {},
     "output_type": "execute_result"
    }
   ],
   "source": [
    "i.WriteParameterFile(t[0], \"/mnt/DATASETS/LUNA/parameter_map_0.tf\")\n",
    "i.WriteParameterFile(t[1], \"/mnt/DATASETS/LUNA/parameter_map_1.tf\")\n",
    "i.WriteParameterFile(t[2], \"/mnt/DATASETS/LUNA/parameter_map_2.tf\")"
   ]
  },
  {
   "cell_type": "code",
   "execution_count": 32,
   "metadata": {},
   "outputs": [
    {
     "ename": "RuntimeError",
     "evalue": "Exception thrown in SimpleITK TransformixImageFilter_Execute: /simpleelastix/Code/Elastix/src/sitkTransformixImageFilterImpl.cxx:109:\nsitk::ERROR: \nitk::ExceptionObject (0x1a915200)\nLocation: \"unknown\" \nFile: /simpleelastix/build/Elastix/Core/Main/elxTransformixFilter.hxx\nLine: 218\nDescription: itk::ERROR: Self(0x340d7a0): Internal transformix error: See transformix log (use LogToConsoleOn() or LogToFileOn())\n\n",
     "output_type": "error",
     "traceback": [
      "\u001b[0;31m---------------------------------------------------------------------------\u001b[0m",
      "\u001b[0;31mRuntimeError\u001b[0m                              Traceback (most recent call last)",
      "\u001b[0;32m<ipython-input-32-cccde85084e2>\u001b[0m in \u001b[0;36m<module>\u001b[0;34m()\u001b[0m\n\u001b[1;32m      3\u001b[0m \u001b[0mtransformixFilter\u001b[0m\u001b[0;34m.\u001b[0m\u001b[0mSetTransformParameterMap\u001b[0m\u001b[0;34m(\u001b[0m\u001b[0mtransformations\u001b[0m\u001b[0;34m[\u001b[0m\u001b[0;36m0\u001b[0m\u001b[0;34m]\u001b[0m\u001b[0;34m.\u001b[0m\u001b[0mGetTransformParameterMap\u001b[0m\u001b[0;34m(\u001b[0m\u001b[0;34m)\u001b[0m\u001b[0;34m)\u001b[0m\u001b[0;34m\u001b[0m\u001b[0m\n\u001b[1;32m      4\u001b[0m \u001b[0mtransformixFilter\u001b[0m\u001b[0;34m.\u001b[0m\u001b[0mSetComputeDeformationField\u001b[0m\u001b[0;34m(\u001b[0m\u001b[0;32mTrue\u001b[0m\u001b[0;34m)\u001b[0m\u001b[0;34m\u001b[0m\u001b[0m\n\u001b[0;32m----> 5\u001b[0;31m \u001b[0mtransformixFilter\u001b[0m\u001b[0;34m.\u001b[0m\u001b[0mExecute\u001b[0m\u001b[0;34m(\u001b[0m\u001b[0;34m)\u001b[0m\u001b[0;34m\u001b[0m\u001b[0m\n\u001b[0m",
      "\u001b[0;32m/usr/local/lib/python3.6/dist-packages/SimpleITK-1.0.1rc1.dev347+gd92b0-py3.6-linux-x86_64.egg/SimpleITK/SimpleITK.py\u001b[0m in \u001b[0;36mExecute\u001b[0;34m(self)\u001b[0m\n\u001b[1;32m  10451\u001b[0m     \u001b[0;32mdef\u001b[0m \u001b[0mExecute\u001b[0m\u001b[0;34m(\u001b[0m\u001b[0mself\u001b[0m\u001b[0;34m)\u001b[0m\u001b[0;34m:\u001b[0m\u001b[0;34m\u001b[0m\u001b[0m\n\u001b[1;32m  10452\u001b[0m         \u001b[0;34m\"\"\"Execute(TransformixImageFilter self) -> Image\"\"\"\u001b[0m\u001b[0;34m\u001b[0m\u001b[0m\n\u001b[0;32m> 10453\u001b[0;31m         \u001b[0;32mreturn\u001b[0m \u001b[0m_SimpleITK\u001b[0m\u001b[0;34m.\u001b[0m\u001b[0mTransformixImageFilter_Execute\u001b[0m\u001b[0;34m(\u001b[0m\u001b[0mself\u001b[0m\u001b[0;34m)\u001b[0m\u001b[0;34m\u001b[0m\u001b[0m\n\u001b[0m\u001b[1;32m  10454\u001b[0m \u001b[0;34m\u001b[0m\u001b[0m\n\u001b[1;32m  10455\u001b[0m \u001b[0;34m\u001b[0m\u001b[0m\n",
      "\u001b[0;31mRuntimeError\u001b[0m: Exception thrown in SimpleITK TransformixImageFilter_Execute: /simpleelastix/Code/Elastix/src/sitkTransformixImageFilterImpl.cxx:109:\nsitk::ERROR: \nitk::ExceptionObject (0x1a915200)\nLocation: \"unknown\" \nFile: /simpleelastix/build/Elastix/Core/Main/elxTransformixFilter.hxx\nLine: 218\nDescription: itk::ERROR: Self(0x340d7a0): Internal transformix error: See transformix log (use LogToConsoleOn() or LogToFileOn())\n\n"
     ]
    }
   ],
   "source": [
    "transformixFilter = sitk.TransformixImageFilter()\n",
    "#transformixFilter.SetMovingImage(reference_img)\n",
    "transformixFilter.SetTransformParameterMap(transformations[0].GetTransformParameterMap())\n",
    "transformixFilter.SetComputeDeformationField(True)\n",
    "transformixFilter.Execute()"
   ]
  },
  {
   "cell_type": "code",
   "execution_count": 31,
   "metadata": {},
   "outputs": [
    {
     "data": {
      "text/plain": [
       "<SimpleITK.SimpleITK.Image; proxy of <Swig Object of type 'std::vector< itk::simple::Image >::value_type *' at 0x7f3830ff0030> >"
      ]
     },
     "execution_count": 31,
     "metadata": {},
     "output_type": "execute_result"
    }
   ],
   "source": [
    "transformixFilter.GetResultImage()"
   ]
  },
  {
   "cell_type": "code",
   "execution_count": 21,
   "metadata": {},
   "outputs": [
    {
     "name": "stdout",
     "output_type": "stream",
     "text": [
      "CPU times: user 2min 25s, sys: 650 ms, total: 2min 26s\n",
      "Wall time: 47.9 s\n"
     ]
    }
   ],
   "source": [
    "%time reference_img_mask = calculate_average_image_transformation(reference_img_mask, transformations)"
   ]
  },
  {
   "cell_type": "code",
   "execution_count": 27,
   "metadata": {},
   "outputs": [
    {
     "data": {
      "text/plain": [
       "False"
      ]
     },
     "execution_count": 27,
     "metadata": {},
     "output_type": "execute_result"
    }
   ],
   "source": []
  },
  {
   "cell_type": "code",
   "execution_count": null,
   "metadata": {},
   "outputs": [],
   "source": []
  }
 ],
 "metadata": {
  "kernelspec": {
   "display_name": "Python 3",
   "language": "python",
   "name": "python3"
  },
  "language_info": {
   "codemirror_mode": {
    "name": "ipython",
    "version": 3
   },
   "file_extension": ".py",
   "mimetype": "text/x-python",
   "name": "python",
   "nbconvert_exporter": "python",
   "pygments_lexer": "ipython3",
   "version": "3.6.4"
  }
 },
 "nbformat": 4,
 "nbformat_minor": 2
}
